{
 "cells": [
  {
   "cell_type": "code",
   "execution_count": null,
   "id": "b07a3b47-2262-4135-a1d2-52e8392b44eb",
   "metadata": {},
   "outputs": [],
   "source": [
    "import sys\n",
    "if \"pyodide\" in sys.modules:\n",
    "    import piplite\n",
    "    await piplite.install('pyb2d-jupyterlite-backend>=0.4.0')\n"
   ]
  },
  {
   "cell_type": "markdown",
   "id": "49c3f9ea-23ce-4c5c-b3fe-44f1cecadf20",
   "metadata": {},
   "source": [
    "pyb2d is imported as b2d"
   ]
  },
  {
   "cell_type": "code",
   "execution_count": null,
   "id": "dff93359-2c68-467a-9239-478a0e550a4b",
   "metadata": {},
   "outputs": [],
   "source": [
    "import b2d\n",
    "# import pyb2d_jupyterlite_backend\n",
    "from pyb2d_jupyterlite_backend.async_jupyter_gui import JupyterAsyncGui\n",
    "import numpy as np\n",
    "import matplotlib.pylab as plt"
   ]
  },
  {
   "cell_type": "markdown",
   "id": "bc977c4e-75ee-4349-9408-650c3dcd01e0",
   "metadata": {},
   "source": [
    "# Tutorial 0: A free falling body\n",
    "The first step with Box2D is the creation of the world. The world is parametrized by a gravity vector."
   ]
  },
  {
   "cell_type": "code",
   "execution_count": null,
   "id": "4ff914a6-eb18-45a1-b1ed-e8ad7ab0d298",
   "metadata": {},
   "outputs": [],
   "source": [
    "# the world\n",
    "gravity = (0, -10)\n",
    "world = b2d.World(gravity)"
   ]
  },
  {
   "cell_type": "markdown",
   "id": "3afdbb2a-e694-4779-b95e-73a5b38d34b6",
   "metadata": {},
   "source": [
    "Create a circle-shaped body"
   ]
  },
  {
   "cell_type": "code",
   "execution_count": null,
   "id": "99837a63-4628-483c-8f2d-cc4aec9cb1d5",
   "metadata": {},
   "outputs": [],
   "source": [
    "# the body def\n",
    "body_def = b2d.BodyDef()\n",
    "body_def.type = b2d.BodyType.dynamic\n",
    "body_def.position = (0, 0)\n",
    "\n",
    "# the body\n",
    "body = world.create_body(body_def)\n",
    "\n",
    "# shape\n",
    "circle_shape = b2d.CircleShape()\n",
    "circle_shape.radius = 1.0\n",
    "\n",
    "# the fixture\n",
    "fixture_def = b2d.FixtureDef()\n",
    "fixture_def.shape = circle_shape\n",
    "fixture_def.density = 1.0\n",
    "\n",
    "# create and add the fixture to the body\n",
    "fixture = body.create_fixture(fixture_def)"
   ]
  },
  {
   "cell_type": "markdown",
   "id": "bf9758a6-fb6e-4f9c-b15f-783f9488cf7e",
   "metadata": {},
   "source": [
    "We can now have a look at the world: We render the world st. each meter in the Box2D world will be 100 pixels in the image:"
   ]
  },
  {
   "cell_type": "code",
   "execution_count": null,
   "id": "8b433892-3c82-43be-a085-eda3e4279b2c",
   "metadata": {},
   "outputs": [],
   "source": [
    "# from b2d.plot import render_world\n",
    "b2d.plot.plot_world(world, ppm=100)"
   ]
  },
  {
   "cell_type": "markdown",
   "id": "5e1db1f1-6e47-454c-9ea9-86262d7da309",
   "metadata": {},
   "source": [
    "Lets run the world for a total of 5 seconds. \n",
    "Usually one wants to run the world at a certain frame rate.\n",
    "With the frame rate and the total time we can compute the delta for each iteration and how many steps we need"
   ]
  },
  {
   "cell_type": "code",
   "execution_count": null,
   "id": "41a232a9-a3c5-425d-9aed-d3adb90d6314",
   "metadata": {},
   "outputs": [],
   "source": [
    "t = 5\n",
    "fps = 40\n",
    "dt = 1.0 / fps\n",
    "n_steps = int(t / dt + 0.5)\n",
    "print(f\"t={t} fps={fps} dt={dt} n_steps={n_steps}\")"
   ]
  },
  {
   "cell_type": "markdown",
   "id": "4d458acb-6d5c-47ba-bcbf-d15ea2cf2537",
   "metadata": {},
   "source": [
    "in each step we query the bodies position and velocity and store then for later plotting"
   ]
  },
  {
   "cell_type": "code",
   "execution_count": null,
   "id": "4e042c7b-07a7-445f-ba04-e38173b46c0f",
   "metadata": {},
   "outputs": [],
   "source": [
    "positions = np.zeros([n_steps, 2])\n",
    "velocites = np.zeros([n_steps, 2])\n",
    "timepoints = np.zeros([n_steps])\n",
    "\n",
    "t_elapsed = 0.0\n",
    "for i in range(n_steps):\n",
    "\n",
    "    # get the bodies center of mass\n",
    "    positions[i, :] = body.world_center\n",
    "\n",
    "    # get the bodies velocity\n",
    "    velocites[i, :] = body.linear_velocity\n",
    "\n",
    "    timepoints[i] = t_elapsed\n",
    "\n",
    "    world.step(time_step=dt, velocity_iterations=1, position_iterations=1)\n",
    "    t_elapsed += dt"
   ]
  },
  {
   "cell_type": "markdown",
   "id": "0ec7d66c-c979-40fa-8af3-9e99873ec105",
   "metadata": {},
   "source": [
    "plot the y-position against the time. We can see that the body is falling down in an accelerating way:"
   ]
  },
  {
   "cell_type": "markdown",
   "id": "9652bae6-55e8-4629-bb75-bd4570ea43ff",
   "metadata": {},
   "source": [
    "plt.plot(timepoints, positions[:, 1])\n",
    "plt.ylabel('y-poistion [meter]')\n",
    "plt.xlabel('t [sec]')\n",
    "plt.show()"
   ]
  },
  {
   "cell_type": "markdown",
   "id": "b7f58954-4ea1-49f9-b0b0-7df38336860d",
   "metadata": {},
   "source": [
    "as expected the x position is not changing since the gravity vector is non-zero only in the x direction"
   ]
  },
  {
   "cell_type": "code",
   "execution_count": null,
   "id": "39573eed-e6c8-45bf-8e35-4251b660ce3f",
   "metadata": {
    "tags": []
   },
   "outputs": [],
   "source": [
    "plt.plot(timepoints, positions[:, 0])\n",
    "plt.ylabel('x-poistion [meter]')\n",
    "plt.xlabel('t [sec]')\n",
    "plt.show()"
   ]
  },
  {
   "cell_type": "markdown",
   "id": "cdb98dc5-3bc8-4933-91a0-a1db3afb9c34",
   "metadata": {},
   "source": [
    "# Tutorial 1: A  falling body in a box, more pythonic\n",
    "Create a world, but in a more pythonic way, and animate the world"
   ]
  },
  {
   "cell_type": "code",
   "execution_count": null,
   "id": "d58c2639-21da-490b-8dcd-205962f63dfc",
   "metadata": {},
   "outputs": [],
   "source": [
    "# the world\n",
    "world = b2d.world(gravity=(0, -10))\n",
    "\n",
    "# create the dynamic body\n",
    "body = world.create_dynamic_body(\n",
    "    position=(5, 5),\n",
    "    fixtures=b2d.fixture_def(shape=b2d.circle_shape(radius=1), density=1),\n",
    ")\n",
    "\n",
    "# create a box\n",
    "box_shape = b2d.ChainShape()\n",
    "box_shape.create_loop([(0, 0), (0, 10),(10,10),(10, 0)])\n",
    "box = world.create_static_body(\n",
    "    position=(0, 0), fixtures=b2d.fixture_def(shape=box_shape, friction=0)\n",
    ")"
   ]
  },
  {
   "cell_type": "markdown",
   "id": "7b5f0bbf-6689-40f0-82f6-53c16beec9db",
   "metadata": {},
   "source": [
    "seeing the falling body trough plots is a bit boring, lets animate the world"
   ]
  },
  {
   "cell_type": "code",
   "execution_count": null,
   "id": "db397768-0065-4886-b417-da9747b4f4b1",
   "metadata": {},
   "outputs": [],
   "source": [
    "b2d.plot.animate_world(world, ppm=20, fps=20)"
   ]
  },
  {
   "cell_type": "markdown",
   "id": "10dbb85a-84b0-4820-8fb3-6108d9c0fe00",
   "metadata": {},
   "source": [
    "note that when we animate that world again, the body has already been fallen"
   ]
  },
  {
   "cell_type": "code",
   "execution_count": null,
   "id": "c919702c-7c62-4d87-bf1f-df5027d72a83",
   "metadata": {},
   "outputs": [],
   "source": [
    "b2d.plot.animate_world(world, ppm=20, fps=20)"
   ]
  },
  {
   "cell_type": "markdown",
   "id": "0d4cfbc0-0689-4eb3-abcd-2a455923bde5",
   "metadata": {},
   "source": [
    "# Tutorial 2: Interactive worlds\n",
    "While animating the world already is already nice, interacting with the world is even better.\n",
    "pyb2d has a framwork to interact with the world for multiple backends.\n",
    "This framework is called `TestbedBase` since you can \"test\" your world in an interactive way"
   ]
  },
  {
   "cell_type": "code",
   "execution_count": null,
   "id": "bbb0ae8d-85ae-423f-8a14-2473176ea98d",
   "metadata": {},
   "outputs": [],
   "source": [
    "from b2d.testbed import TestbedBase\n",
    "\n",
    "class InteractiveExample(TestbedBase):\n",
    "    def __init__(self, settings=None):\n",
    "        super(InteractiveExample, self).__init__(settings=settings)\n",
    "        # create two balls\n",
    "        body = self.world.create_dynamic_body(position=(5, 5),\n",
    "            fixtures=b2d.fixture_def(shape=b2d.circle_shape(radius=1), density=1, restitution=0.5),\n",
    "        )\n",
    "        body = self.world.create_dynamic_body(position=(8, 5),\n",
    "            fixtures=b2d.fixture_def(shape=b2d.circle_shape(radius=1), density=1, restitution=0.8),\n",
    "        )\n",
    "        # create a box\n",
    "        box_shape = b2d.ChainShape()\n",
    "        box_shape.create_loop([(0, 0), (0, 10),(10,10),(10, 0)])\n",
    "        box = self.world.create_static_body(\n",
    "            position=(0, 0), fixtures=b2d.fixture_def(shape=box_shape, friction=0)\n",
    "        )\n"
   ]
  },
  {
   "cell_type": "code",
   "execution_count": null,
   "id": "5cea1967-3575-44b4-ab3e-13bb1b0da60d",
   "metadata": {},
   "outputs": [],
   "source": [
    "s = JupyterAsyncGui.Settings()\n",
    "s.resolution = [300,300]\n",
    "b2d.testbed.run(InteractiveExample, backend=JupyterAsyncGui, gui_settings=s);"
   ]
  },
  {
   "cell_type": "code",
   "execution_count": null,
   "id": "9cb08294-1ca7-416f-8571-b9c905ecca6c",
   "metadata": {},
   "outputs": [],
   "source": []
  },
  {
   "cell_type": "code",
   "execution_count": null,
   "id": "60dd7cee-f96a-48ba-ae83-67680052e787",
   "metadata": {},
   "outputs": [],
   "source": []
  }
 ],
 "metadata": {
  "kernelspec": {
   "display_name": "Python 3 (ipykernel)",
   "language": "python",
   "name": "python3"
  },
  "language_info": {
   "codemirror_mode": {
    "name": "ipython",
    "version": 3
   },
   "file_extension": ".py",
   "mimetype": "text/x-python",
   "name": "python",
   "nbconvert_exporter": "python",
   "pygments_lexer": "ipython3",
   "version": "3.10.4"
  }
 },
 "nbformat": 4,
 "nbformat_minor": 5
}
